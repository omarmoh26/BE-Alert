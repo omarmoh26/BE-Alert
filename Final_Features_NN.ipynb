{
  "nbformat": 4,
  "nbformat_minor": 0,
  "metadata": {
    "colab": {
      "provenance": [],
      "include_colab_link": true
    },
    "kernelspec": {
      "name": "python3",
      "display_name": "Python 3"
    },
    "language_info": {
      "name": "python"
    }
  },
  "cells": [
    {
      "cell_type": "markdown",
      "metadata": {
        "id": "view-in-github",
        "colab_type": "text"
      },
      "source": [
        "<a href=\"https://colab.research.google.com/github/omarmoh26/BE-Alert/blob/main/Final_Features_NN.ipynb\" target=\"_parent\"><img src=\"https://colab.research.google.com/assets/colab-badge.svg\" alt=\"Open In Colab\"/></a>"
      ]
    },
    {
      "cell_type": "code",
      "execution_count": null,
      "metadata": {
        "id": "4U88Xq2XNVDz"
      },
      "outputs": [],
      "source": []
    },
    {
      "cell_type": "code",
      "execution_count": null,
      "metadata": {
        "colab": {
          "base_uri": "https://localhost:8080/"
        },
        "id": "ByvMxbT2M0H_",
        "outputId": "3be0d7c0-d7ba-4b0a-90e7-adcd80d87b35"
      },
      "outputs": [
        {
          "output_type": "stream",
          "name": "stdout",
          "text": [
            "Mounted at /content/gdrive/\n"
          ]
        }
      ],
      "source": [
        "from google.colab import drive\n",
        "drive.mount('/content/gdrive/')"
      ]
    },
    {
      "cell_type": "code",
      "execution_count": null,
      "metadata": {
        "id": "y8V2VBkU06Aj"
      },
      "outputs": [],
      "source": [
        "import pandas as pd\n",
        "import numpy as np\n",
        "from matplotlib import pyplot as plt\n",
        "from sklearn.preprocessing import StandardScaler\n",
        "import seaborn as sns"
      ]
    },
    {
      "cell_type": "code",
      "execution_count": null,
      "metadata": {
        "id": "uClP9R9aNbQp"
      },
      "outputs": [],
      "source": [
        "data = pd.read_csv('/content/gdrive/My Drive/R6_EEG_Final_Columns.csv')\n"
      ]
    },
    {
      "cell_type": "code",
      "execution_count": null,
      "metadata": {
        "colab": {
          "base_uri": "https://localhost:8080/",
          "height": 488
        },
        "id": "wiSiroA7Nm_T",
        "outputId": "46add5fb-c9b9-45d1-81e6-85e9b3c7c106"
      },
      "outputs": [
        {
          "output_type": "execute_result",
          "data": {
            "text/plain": [
              "     Theta_mean  Theta_median   Theta_mode  Theta_range    Theta_std  \\\n",
              "0   124965.5903       81382.5  124965.5903      1029881  163202.8949   \n",
              "1   161064.2286      109448.0  161064.2286       826196  165275.3640   \n",
              "2   149816.8732       96455.0  149816.8732       957235  166569.0373   \n",
              "3   162653.3607       64971.0  162653.3607      1696851  260393.0996   \n",
              "4   126893.9483       45817.5  126893.9483      1009030  181363.0166   \n",
              "..          ...           ...          ...          ...          ...   \n",
              "85  282487.5122      176070.0  282487.5122      1324433  284497.0738   \n",
              "86  193226.8707       93990.0  193226.8707      1591630  255014.6299   \n",
              "87  137478.2679       74496.0  137478.2679      1811067  224541.4304   \n",
              "88  198926.0484      134007.5  198926.0484      1808890  229844.4600   \n",
              "89  162498.6803       68510.0  162498.6803      1356267  238339.2248   \n",
              "\n",
              "       Theta_var  Theta_IQR  Alpha1_mean  Alpha1_median  Alpha1_mode  ...  \\\n",
              "0   2.663518e+10  113547.50  36693.70139        13622.0  36693.70139  ...   \n",
              "1   2.731595e+10  159941.75  34918.02857        23867.5  34918.02857  ...   \n",
              "2   2.774524e+10  157763.25  30493.87324        18521.0  30493.87324  ...   \n",
              "3   6.780457e+10  142617.25  33367.27869        15899.5  33367.27869  ...   \n",
              "4   3.289254e+10  107785.75  23113.84483        14845.5  23113.84483  ...   \n",
              "..           ...        ...          ...            ...          ...  ...   \n",
              "85  8.093859e+10  332013.00  70498.08943        35332.0  70498.08943  ...   \n",
              "86  6.503246e+10  199486.50  74629.12931        29970.5  74629.12931  ...   \n",
              "87  5.041885e+10   94241.50  37676.38393        16918.5  37676.38393  ...   \n",
              "88  5.282848e+10  191991.75  42279.81452        21442.0  42279.81452  ...   \n",
              "89  5.680559e+10  132674.75  42521.19672        21412.0  42521.19672  ...   \n",
              "\n",
              "      Alpha1_std    Alpha1_var  Alpha1_IQR  Alpha2_mean  Alpha2_median  \\\n",
              "0    63481.77426  4.029936e+09    38614.75  25875.29861        14065.5   \n",
              "1    39782.07114  1.582613e+09    42486.00  25078.93571        16974.5   \n",
              "2    48986.98127  2.399724e+09    27804.50  21667.59155        13002.0   \n",
              "3    46917.19719  2.201223e+09    23909.75  26281.50000        12748.5   \n",
              "4    26936.61478  7.255812e+08    21237.00  17017.05172        10775.5   \n",
              "..           ...           ...         ...          ...            ...   \n",
              "85  117544.85050  1.381679e+10    60303.00  40760.39837        23387.0   \n",
              "86  135330.53550  1.831435e+10    65976.50  44065.68103        23556.0   \n",
              "87   59632.28771  3.556010e+09    27377.75  28570.58036        18242.5   \n",
              "88   56829.44188  3.229585e+09    40276.50  25929.18548        14637.5   \n",
              "89   56449.57407  3.186554e+09    38849.25  37859.87705        19257.0   \n",
              "\n",
              "    Alpha2_mode  Alpha2_range   Alpha2_std    Alpha2_var  Alpha2_IQR  \n",
              "0   25875.29861        233815  36455.75323  1.329022e+09    24251.75  \n",
              "1   25078.93571        221456  29358.05140  8.618952e+08    26703.00  \n",
              "2   21667.59155        122532  22420.34038  5.026717e+08    23148.25  \n",
              "3   26281.50000        235114  39171.09175  1.534374e+09    24834.50  \n",
              "4   17017.05172         90226  18215.48147  3.318038e+08    17462.25  \n",
              "..          ...           ...          ...           ...         ...  \n",
              "85  40760.39837        396568  59298.73607  3.516340e+09    35767.00  \n",
              "86  44065.68103        278036  54258.10917  2.943942e+09    43450.50  \n",
              "87  28570.58036        180749  33487.30808  1.121400e+09    24441.00  \n",
              "88  25929.18548        218985  30583.85946  9.353725e+08    31127.50  \n",
              "89  37859.87705        336646  50897.94364  2.590601e+09    29939.75  \n",
              "\n",
              "[90 rows x 21 columns]"
            ],
            "text/html": [
              "\n",
              "  <div id=\"df-569b290a-3e2d-4da7-b983-76a5c8e06c1d\">\n",
              "    <div class=\"colab-df-container\">\n",
              "      <div>\n",
              "<style scoped>\n",
              "    .dataframe tbody tr th:only-of-type {\n",
              "        vertical-align: middle;\n",
              "    }\n",
              "\n",
              "    .dataframe tbody tr th {\n",
              "        vertical-align: top;\n",
              "    }\n",
              "\n",
              "    .dataframe thead th {\n",
              "        text-align: right;\n",
              "    }\n",
              "</style>\n",
              "<table border=\"1\" class=\"dataframe\">\n",
              "  <thead>\n",
              "    <tr style=\"text-align: right;\">\n",
              "      <th></th>\n",
              "      <th>Theta_mean</th>\n",
              "      <th>Theta_median</th>\n",
              "      <th>Theta_mode</th>\n",
              "      <th>Theta_range</th>\n",
              "      <th>Theta_std</th>\n",
              "      <th>Theta_var</th>\n",
              "      <th>Theta_IQR</th>\n",
              "      <th>Alpha1_mean</th>\n",
              "      <th>Alpha1_median</th>\n",
              "      <th>Alpha1_mode</th>\n",
              "      <th>...</th>\n",
              "      <th>Alpha1_std</th>\n",
              "      <th>Alpha1_var</th>\n",
              "      <th>Alpha1_IQR</th>\n",
              "      <th>Alpha2_mean</th>\n",
              "      <th>Alpha2_median</th>\n",
              "      <th>Alpha2_mode</th>\n",
              "      <th>Alpha2_range</th>\n",
              "      <th>Alpha2_std</th>\n",
              "      <th>Alpha2_var</th>\n",
              "      <th>Alpha2_IQR</th>\n",
              "    </tr>\n",
              "  </thead>\n",
              "  <tbody>\n",
              "    <tr>\n",
              "      <th>0</th>\n",
              "      <td>124965.5903</td>\n",
              "      <td>81382.5</td>\n",
              "      <td>124965.5903</td>\n",
              "      <td>1029881</td>\n",
              "      <td>163202.8949</td>\n",
              "      <td>2.663518e+10</td>\n",
              "      <td>113547.50</td>\n",
              "      <td>36693.70139</td>\n",
              "      <td>13622.0</td>\n",
              "      <td>36693.70139</td>\n",
              "      <td>...</td>\n",
              "      <td>63481.77426</td>\n",
              "      <td>4.029936e+09</td>\n",
              "      <td>38614.75</td>\n",
              "      <td>25875.29861</td>\n",
              "      <td>14065.5</td>\n",
              "      <td>25875.29861</td>\n",
              "      <td>233815</td>\n",
              "      <td>36455.75323</td>\n",
              "      <td>1.329022e+09</td>\n",
              "      <td>24251.75</td>\n",
              "    </tr>\n",
              "    <tr>\n",
              "      <th>1</th>\n",
              "      <td>161064.2286</td>\n",
              "      <td>109448.0</td>\n",
              "      <td>161064.2286</td>\n",
              "      <td>826196</td>\n",
              "      <td>165275.3640</td>\n",
              "      <td>2.731595e+10</td>\n",
              "      <td>159941.75</td>\n",
              "      <td>34918.02857</td>\n",
              "      <td>23867.5</td>\n",
              "      <td>34918.02857</td>\n",
              "      <td>...</td>\n",
              "      <td>39782.07114</td>\n",
              "      <td>1.582613e+09</td>\n",
              "      <td>42486.00</td>\n",
              "      <td>25078.93571</td>\n",
              "      <td>16974.5</td>\n",
              "      <td>25078.93571</td>\n",
              "      <td>221456</td>\n",
              "      <td>29358.05140</td>\n",
              "      <td>8.618952e+08</td>\n",
              "      <td>26703.00</td>\n",
              "    </tr>\n",
              "    <tr>\n",
              "      <th>2</th>\n",
              "      <td>149816.8732</td>\n",
              "      <td>96455.0</td>\n",
              "      <td>149816.8732</td>\n",
              "      <td>957235</td>\n",
              "      <td>166569.0373</td>\n",
              "      <td>2.774524e+10</td>\n",
              "      <td>157763.25</td>\n",
              "      <td>30493.87324</td>\n",
              "      <td>18521.0</td>\n",
              "      <td>30493.87324</td>\n",
              "      <td>...</td>\n",
              "      <td>48986.98127</td>\n",
              "      <td>2.399724e+09</td>\n",
              "      <td>27804.50</td>\n",
              "      <td>21667.59155</td>\n",
              "      <td>13002.0</td>\n",
              "      <td>21667.59155</td>\n",
              "      <td>122532</td>\n",
              "      <td>22420.34038</td>\n",
              "      <td>5.026717e+08</td>\n",
              "      <td>23148.25</td>\n",
              "    </tr>\n",
              "    <tr>\n",
              "      <th>3</th>\n",
              "      <td>162653.3607</td>\n",
              "      <td>64971.0</td>\n",
              "      <td>162653.3607</td>\n",
              "      <td>1696851</td>\n",
              "      <td>260393.0996</td>\n",
              "      <td>6.780457e+10</td>\n",
              "      <td>142617.25</td>\n",
              "      <td>33367.27869</td>\n",
              "      <td>15899.5</td>\n",
              "      <td>33367.27869</td>\n",
              "      <td>...</td>\n",
              "      <td>46917.19719</td>\n",
              "      <td>2.201223e+09</td>\n",
              "      <td>23909.75</td>\n",
              "      <td>26281.50000</td>\n",
              "      <td>12748.5</td>\n",
              "      <td>26281.50000</td>\n",
              "      <td>235114</td>\n",
              "      <td>39171.09175</td>\n",
              "      <td>1.534374e+09</td>\n",
              "      <td>24834.50</td>\n",
              "    </tr>\n",
              "    <tr>\n",
              "      <th>4</th>\n",
              "      <td>126893.9483</td>\n",
              "      <td>45817.5</td>\n",
              "      <td>126893.9483</td>\n",
              "      <td>1009030</td>\n",
              "      <td>181363.0166</td>\n",
              "      <td>3.289254e+10</td>\n",
              "      <td>107785.75</td>\n",
              "      <td>23113.84483</td>\n",
              "      <td>14845.5</td>\n",
              "      <td>23113.84483</td>\n",
              "      <td>...</td>\n",
              "      <td>26936.61478</td>\n",
              "      <td>7.255812e+08</td>\n",
              "      <td>21237.00</td>\n",
              "      <td>17017.05172</td>\n",
              "      <td>10775.5</td>\n",
              "      <td>17017.05172</td>\n",
              "      <td>90226</td>\n",
              "      <td>18215.48147</td>\n",
              "      <td>3.318038e+08</td>\n",
              "      <td>17462.25</td>\n",
              "    </tr>\n",
              "    <tr>\n",
              "      <th>...</th>\n",
              "      <td>...</td>\n",
              "      <td>...</td>\n",
              "      <td>...</td>\n",
              "      <td>...</td>\n",
              "      <td>...</td>\n",
              "      <td>...</td>\n",
              "      <td>...</td>\n",
              "      <td>...</td>\n",
              "      <td>...</td>\n",
              "      <td>...</td>\n",
              "      <td>...</td>\n",
              "      <td>...</td>\n",
              "      <td>...</td>\n",
              "      <td>...</td>\n",
              "      <td>...</td>\n",
              "      <td>...</td>\n",
              "      <td>...</td>\n",
              "      <td>...</td>\n",
              "      <td>...</td>\n",
              "      <td>...</td>\n",
              "      <td>...</td>\n",
              "    </tr>\n",
              "    <tr>\n",
              "      <th>85</th>\n",
              "      <td>282487.5122</td>\n",
              "      <td>176070.0</td>\n",
              "      <td>282487.5122</td>\n",
              "      <td>1324433</td>\n",
              "      <td>284497.0738</td>\n",
              "      <td>8.093859e+10</td>\n",
              "      <td>332013.00</td>\n",
              "      <td>70498.08943</td>\n",
              "      <td>35332.0</td>\n",
              "      <td>70498.08943</td>\n",
              "      <td>...</td>\n",
              "      <td>117544.85050</td>\n",
              "      <td>1.381679e+10</td>\n",
              "      <td>60303.00</td>\n",
              "      <td>40760.39837</td>\n",
              "      <td>23387.0</td>\n",
              "      <td>40760.39837</td>\n",
              "      <td>396568</td>\n",
              "      <td>59298.73607</td>\n",
              "      <td>3.516340e+09</td>\n",
              "      <td>35767.00</td>\n",
              "    </tr>\n",
              "    <tr>\n",
              "      <th>86</th>\n",
              "      <td>193226.8707</td>\n",
              "      <td>93990.0</td>\n",
              "      <td>193226.8707</td>\n",
              "      <td>1591630</td>\n",
              "      <td>255014.6299</td>\n",
              "      <td>6.503246e+10</td>\n",
              "      <td>199486.50</td>\n",
              "      <td>74629.12931</td>\n",
              "      <td>29970.5</td>\n",
              "      <td>74629.12931</td>\n",
              "      <td>...</td>\n",
              "      <td>135330.53550</td>\n",
              "      <td>1.831435e+10</td>\n",
              "      <td>65976.50</td>\n",
              "      <td>44065.68103</td>\n",
              "      <td>23556.0</td>\n",
              "      <td>44065.68103</td>\n",
              "      <td>278036</td>\n",
              "      <td>54258.10917</td>\n",
              "      <td>2.943942e+09</td>\n",
              "      <td>43450.50</td>\n",
              "    </tr>\n",
              "    <tr>\n",
              "      <th>87</th>\n",
              "      <td>137478.2679</td>\n",
              "      <td>74496.0</td>\n",
              "      <td>137478.2679</td>\n",
              "      <td>1811067</td>\n",
              "      <td>224541.4304</td>\n",
              "      <td>5.041885e+10</td>\n",
              "      <td>94241.50</td>\n",
              "      <td>37676.38393</td>\n",
              "      <td>16918.5</td>\n",
              "      <td>37676.38393</td>\n",
              "      <td>...</td>\n",
              "      <td>59632.28771</td>\n",
              "      <td>3.556010e+09</td>\n",
              "      <td>27377.75</td>\n",
              "      <td>28570.58036</td>\n",
              "      <td>18242.5</td>\n",
              "      <td>28570.58036</td>\n",
              "      <td>180749</td>\n",
              "      <td>33487.30808</td>\n",
              "      <td>1.121400e+09</td>\n",
              "      <td>24441.00</td>\n",
              "    </tr>\n",
              "    <tr>\n",
              "      <th>88</th>\n",
              "      <td>198926.0484</td>\n",
              "      <td>134007.5</td>\n",
              "      <td>198926.0484</td>\n",
              "      <td>1808890</td>\n",
              "      <td>229844.4600</td>\n",
              "      <td>5.282848e+10</td>\n",
              "      <td>191991.75</td>\n",
              "      <td>42279.81452</td>\n",
              "      <td>21442.0</td>\n",
              "      <td>42279.81452</td>\n",
              "      <td>...</td>\n",
              "      <td>56829.44188</td>\n",
              "      <td>3.229585e+09</td>\n",
              "      <td>40276.50</td>\n",
              "      <td>25929.18548</td>\n",
              "      <td>14637.5</td>\n",
              "      <td>25929.18548</td>\n",
              "      <td>218985</td>\n",
              "      <td>30583.85946</td>\n",
              "      <td>9.353725e+08</td>\n",
              "      <td>31127.50</td>\n",
              "    </tr>\n",
              "    <tr>\n",
              "      <th>89</th>\n",
              "      <td>162498.6803</td>\n",
              "      <td>68510.0</td>\n",
              "      <td>162498.6803</td>\n",
              "      <td>1356267</td>\n",
              "      <td>238339.2248</td>\n",
              "      <td>5.680559e+10</td>\n",
              "      <td>132674.75</td>\n",
              "      <td>42521.19672</td>\n",
              "      <td>21412.0</td>\n",
              "      <td>42521.19672</td>\n",
              "      <td>...</td>\n",
              "      <td>56449.57407</td>\n",
              "      <td>3.186554e+09</td>\n",
              "      <td>38849.25</td>\n",
              "      <td>37859.87705</td>\n",
              "      <td>19257.0</td>\n",
              "      <td>37859.87705</td>\n",
              "      <td>336646</td>\n",
              "      <td>50897.94364</td>\n",
              "      <td>2.590601e+09</td>\n",
              "      <td>29939.75</td>\n",
              "    </tr>\n",
              "  </tbody>\n",
              "</table>\n",
              "<p>90 rows × 21 columns</p>\n",
              "</div>\n",
              "      <button class=\"colab-df-convert\" onclick=\"convertToInteractive('df-569b290a-3e2d-4da7-b983-76a5c8e06c1d')\"\n",
              "              title=\"Convert this dataframe to an interactive table.\"\n",
              "              style=\"display:none;\">\n",
              "        \n",
              "  <svg xmlns=\"http://www.w3.org/2000/svg\" height=\"24px\"viewBox=\"0 0 24 24\"\n",
              "       width=\"24px\">\n",
              "    <path d=\"M0 0h24v24H0V0z\" fill=\"none\"/>\n",
              "    <path d=\"M18.56 5.44l.94 2.06.94-2.06 2.06-.94-2.06-.94-.94-2.06-.94 2.06-2.06.94zm-11 1L8.5 8.5l.94-2.06 2.06-.94-2.06-.94L8.5 2.5l-.94 2.06-2.06.94zm10 10l.94 2.06.94-2.06 2.06-.94-2.06-.94-.94-2.06-.94 2.06-2.06.94z\"/><path d=\"M17.41 7.96l-1.37-1.37c-.4-.4-.92-.59-1.43-.59-.52 0-1.04.2-1.43.59L10.3 9.45l-7.72 7.72c-.78.78-.78 2.05 0 2.83L4 21.41c.39.39.9.59 1.41.59.51 0 1.02-.2 1.41-.59l7.78-7.78 2.81-2.81c.8-.78.8-2.07 0-2.86zM5.41 20L4 18.59l7.72-7.72 1.47 1.35L5.41 20z\"/>\n",
              "  </svg>\n",
              "      </button>\n",
              "      \n",
              "  <style>\n",
              "    .colab-df-container {\n",
              "      display:flex;\n",
              "      flex-wrap:wrap;\n",
              "      gap: 12px;\n",
              "    }\n",
              "\n",
              "    .colab-df-convert {\n",
              "      background-color: #E8F0FE;\n",
              "      border: none;\n",
              "      border-radius: 50%;\n",
              "      cursor: pointer;\n",
              "      display: none;\n",
              "      fill: #1967D2;\n",
              "      height: 32px;\n",
              "      padding: 0 0 0 0;\n",
              "      width: 32px;\n",
              "    }\n",
              "\n",
              "    .colab-df-convert:hover {\n",
              "      background-color: #E2EBFA;\n",
              "      box-shadow: 0px 1px 2px rgba(60, 64, 67, 0.3), 0px 1px 3px 1px rgba(60, 64, 67, 0.15);\n",
              "      fill: #174EA6;\n",
              "    }\n",
              "\n",
              "    [theme=dark] .colab-df-convert {\n",
              "      background-color: #3B4455;\n",
              "      fill: #D2E3FC;\n",
              "    }\n",
              "\n",
              "    [theme=dark] .colab-df-convert:hover {\n",
              "      background-color: #434B5C;\n",
              "      box-shadow: 0px 1px 3px 1px rgba(0, 0, 0, 0.15);\n",
              "      filter: drop-shadow(0px 1px 2px rgba(0, 0, 0, 0.3));\n",
              "      fill: #FFFFFF;\n",
              "    }\n",
              "  </style>\n",
              "\n",
              "      <script>\n",
              "        const buttonEl =\n",
              "          document.querySelector('#df-569b290a-3e2d-4da7-b983-76a5c8e06c1d button.colab-df-convert');\n",
              "        buttonEl.style.display =\n",
              "          google.colab.kernel.accessAllowed ? 'block' : 'none';\n",
              "\n",
              "        async function convertToInteractive(key) {\n",
              "          const element = document.querySelector('#df-569b290a-3e2d-4da7-b983-76a5c8e06c1d');\n",
              "          const dataTable =\n",
              "            await google.colab.kernel.invokeFunction('convertToInteractive',\n",
              "                                                     [key], {});\n",
              "          if (!dataTable) return;\n",
              "\n",
              "          const docLinkHtml = 'Like what you see? Visit the ' +\n",
              "            '<a target=\"_blank\" href=https://colab.research.google.com/notebooks/data_table.ipynb>data table notebook</a>'\n",
              "            + ' to learn more about interactive tables.';\n",
              "          element.innerHTML = '';\n",
              "          dataTable['output_type'] = 'display_data';\n",
              "          await google.colab.output.renderOutput(dataTable, element);\n",
              "          const docLink = document.createElement('div');\n",
              "          docLink.innerHTML = docLinkHtml;\n",
              "          element.appendChild(docLink);\n",
              "        }\n",
              "      </script>\n",
              "    </div>\n",
              "  </div>\n",
              "  "
            ]
          },
          "metadata": {},
          "execution_count": 5
        }
      ],
      "source": [
        "y=data.pop('Result')\n",
        "data=data.drop(columns=['Attention_median'])\n",
        "data"
      ]
    },
    {
      "cell_type": "code",
      "execution_count": null,
      "metadata": {
        "id": "oYlLoAbPS9XL"
      },
      "outputs": [],
      "source": [
        "myColumns=data[['Theta_median','Alpha1_IQR','Alpha2_median']]"
      ]
    },
    {
      "cell_type": "code",
      "execution_count": null,
      "metadata": {
        "id": "IsSPXDj1R85o"
      },
      "outputs": [],
      "source": [
        "scaler = StandardScaler()\n",
        "X=scaler.fit_transform(myColumns)\n",
        "\n",
        "\n"
      ]
    },
    {
      "cell_type": "code",
      "execution_count": null,
      "metadata": {
        "id": "l1Nh87BBewW6"
      },
      "outputs": [],
      "source": [
        "import matplotlib.pyplot as plt\n",
        "import numpy as np\n",
        "from sklearn.linear_model import LogisticRegression\n",
        "from sklearn.metrics import classification_report, confusion_matrix\n",
        "from sklearn.model_selection import train_test_split\n",
        "from sklearn.metrics import classification_report\n",
        "from sklearn.metrics import confusion_matrix\n",
        "from sklearn.linear_model import LinearRegression\n",
        "from sklearn import preprocessing\n",
        "from sklearn.naive_bayes import GaussianNB\n"
      ]
    },
    {
      "cell_type": "code",
      "execution_count": null,
      "metadata": {
        "id": "z5lVU6ZQK0EE"
      },
      "outputs": [],
      "source": [
        "x_train, x_test, y_train, y_test=train_test_split(X,y,test_size=0.3,stratify=y,random_state=0)"
      ]
    },
    {
      "cell_type": "code",
      "execution_count": null,
      "metadata": {
        "colab": {
          "base_uri": "https://localhost:8080/"
        },
        "id": "k5h6fYGMx4HX",
        "outputId": "863a7c45-9908-4b0a-c4b5-5db44bb96fb4"
      },
      "outputs": [
        {
          "output_type": "execute_result",
          "data": {
            "text/plain": [
              "GaussianNB()"
            ]
          },
          "metadata": {},
          "execution_count": 10
        }
      ],
      "source": [
        "gnb = GaussianNB()\n",
        "gnb.fit(x_train, y_train)"
      ]
    },
    {
      "cell_type": "code",
      "execution_count": null,
      "metadata": {
        "colab": {
          "base_uri": "https://localhost:8080/"
        },
        "id": "aNMn4GzKyClN",
        "outputId": "e9fc8d2f-75ee-4038-e3d7-5d051e25a427"
      },
      "outputs": [
        {
          "output_type": "execute_result",
          "data": {
            "text/plain": [
              "array([1, 0, 0, 1, 0, 0, 0, 0, 1, 1, 0, 1, 0, 1, 1, 1, 1, 0, 0, 1, 1, 0,\n",
              "       1, 0, 0, 1, 0])"
            ]
          },
          "metadata": {},
          "execution_count": 11
        }
      ],
      "source": [
        "y_pred = gnb.predict(x_test)\n",
        "y_pred"
      ]
    },
    {
      "cell_type": "code",
      "execution_count": null,
      "metadata": {
        "colab": {
          "base_uri": "https://localhost:8080/"
        },
        "id": "ltMQPRmjyLpg",
        "outputId": "bea7c1d7-4035-4510-82b5-95b9aaf46213"
      },
      "outputs": [
        {
          "output_type": "stream",
          "name": "stdout",
          "text": [
            "Model accuracy score: 0.5926\n"
          ]
        }
      ],
      "source": [
        "from sklearn.metrics import accuracy_score\n",
        "\n",
        "print('Model accuracy score: {0:0.4f}'. format(accuracy_score(y_test, y_pred)))"
      ]
    },
    {
      "cell_type": "code",
      "execution_count": null,
      "metadata": {
        "id": "y1UPp3PBR0rF"
      },
      "outputs": [],
      "source": [
        "from sklearn.model_selection import GridSearchCV"
      ]
    },
    {
      "cell_type": "code",
      "execution_count": null,
      "metadata": {
        "id": "jsjVsdaVK5Bw"
      },
      "outputs": [],
      "source": [
        "\n",
        "# from sklearn.linear_model import LogisticRegression\n",
        "grid={\"C\":np.logspace(-3,3,7), \"penalty\":[\"l1\",\"l2\"]}# l1 lasso l2 ridge\n",
        "logreg=LogisticRegression()\n",
        "logreg_cv=GridSearchCV(logreg,grid,cv=10)\n",
        "logreg_cv.fit(x_train,y_train)\n",
        "\n"
      ]
    },
    {
      "cell_type": "code",
      "execution_count": null,
      "metadata": {
        "colab": {
          "base_uri": "https://localhost:8080/"
        },
        "id": "mIrGVdPZRM_d",
        "outputId": "14d57a65-d829-404b-afca-90aa79d00883"
      },
      "outputs": [
        {
          "output_type": "stream",
          "name": "stdout",
          "text": [
            "tuned hpyerparameters :(best parameters)  {'C': 0.1, 'penalty': 'l2'}\n",
            "Accuracy for our training dataset with tuning is : 74.76%\n"
          ]
        }
      ],
      "source": [
        "print(\"tuned hpyerparameters :(best parameters) \",logreg_cv.best_params_)\n",
        "logregAccuracy = logreg_cv.best_score_ *100\n",
        "print(\"Accuracy for our training dataset with tuning is : {:.2f}%\".format(logregAccuracy) )"
      ]
    },
    {
      "cell_type": "code",
      "execution_count": null,
      "metadata": {
        "id": "tYtd0sYUL-XV"
      },
      "outputs": [],
      "source": [
        "from sklearn.neighbors import KNeighborsClassifier\n",
        "from sklearn.metrics import accuracy_score, plot_confusion_matrix"
      ]
    },
    {
      "cell_type": "code",
      "execution_count": null,
      "metadata": {
        "colab": {
          "base_uri": "https://localhost:8080/"
        },
        "id": "2hOb9O8RMAza",
        "outputId": "4646847e-d0e9-4392-feed-259238e64e90"
      },
      "outputs": [
        {
          "output_type": "stream",
          "name": "stdout",
          "text": [
            "Fitting 10 folds for each of 16 candidates, totalling 160 fits\n"
          ]
        }
      ],
      "source": [
        "knn = KNeighborsClassifier()\n",
        "# from sklearn.model_selection import GridSearchCV\n",
        "k_range = [1,3,5,7,9,11,13,15,17,19,21,23,25,27,29,31]\n",
        "param_grid = dict(n_neighbors=k_range)\n",
        "  \n",
        "# defining parameter range\n",
        "grid = GridSearchCV(knn, param_grid, cv=10, scoring='accuracy', return_train_score=False,verbose=1)\n",
        "  \n",
        "# fitting the model for grid search\n",
        "grid_search=grid.fit(x_train, y_train)"
      ]
    },
    {
      "cell_type": "code",
      "execution_count": null,
      "metadata": {
        "colab": {
          "base_uri": "https://localhost:8080/"
        },
        "id": "3nlFnxyrMocQ",
        "outputId": "78e99104-2117-4129-9eab-1e5c7c36f011"
      },
      "outputs": [
        {
          "output_type": "stream",
          "name": "stdout",
          "text": [
            "{'n_neighbors': 7}\n"
          ]
        }
      ],
      "source": [
        "print(grid_search.best_params_)"
      ]
    },
    {
      "cell_type": "code",
      "execution_count": null,
      "metadata": {
        "colab": {
          "base_uri": "https://localhost:8080/"
        },
        "id": "flwbUpRhM05r",
        "outputId": "5696cc0e-7c5a-4c91-c2ca-c1813e38960f"
      },
      "outputs": [
        {
          "output_type": "stream",
          "name": "stdout",
          "text": [
            "Accuracy for our training dataset with tuning is : 74.76%\n"
          ]
        }
      ],
      "source": [
        "accuracy = grid_search.best_score_ *100\n",
        "print(\"Accuracy for our training dataset with tuning is : {:.2f}%\".format(accuracy) )"
      ]
    },
    {
      "cell_type": "code",
      "execution_count": null,
      "metadata": {
        "id": "GkGEjMKoOzDE",
        "colab": {
          "base_uri": "https://localhost:8080/"
        },
        "outputId": "b2a31153-f50c-449d-caff-99648d648b37"
      },
      "outputs": [
        {
          "output_type": "execute_result",
          "data": {
            "text/plain": [
              "GridSearchCV(cv=5, estimator=RandomForestClassifier(random_state=42),\n",
              "             param_grid={'criterion': ['gini', 'entropy'],\n",
              "                         'max_depth': [4, 5, 6, 7, 8],\n",
              "                         'max_features': ['auto', 'sqrt', 'log2'],\n",
              "                         'n_estimators': [1, 10]})"
            ]
          },
          "metadata": {},
          "execution_count": 33
        }
      ],
      "source": [
        "from sklearn.ensemble import RandomForestClassifier\n",
        "rfc=RandomForestClassifier(random_state=42)\n",
        "param_grid = { \n",
        "    'n_estimators': [1, 10],\n",
        "    'max_features': ['auto', 'sqrt', 'log2'],\n",
        "    'max_depth' : [4,5,6,7,8],\n",
        "    'criterion' :['gini', 'entropy']\n",
        "}\n",
        "CV_rfc = GridSearchCV(estimator=rfc, param_grid=param_grid, cv= 5)\n",
        "CV_rfc.fit(x_train, y_train)"
      ]
    },
    {
      "cell_type": "code",
      "execution_count": null,
      "metadata": {
        "id": "TXjgx7hyO9Ia",
        "colab": {
          "base_uri": "https://localhost:8080/"
        },
        "outputId": "51836f73-8ced-4b1d-bff0-9f6c378beec0"
      },
      "outputs": [
        {
          "output_type": "stream",
          "name": "stdout",
          "text": [
            "{'criterion': 'gini', 'max_depth': 4, 'max_features': 'auto', 'n_estimators': 10}\n",
            "Accuracy for our training dataset with tuning is : 76.41%\n"
          ]
        }
      ],
      "source": [
        "print(CV_rfc.best_params_)\n",
        "accuracy = CV_rfc.best_score_ *100\n",
        "print(\"Accuracy for our training dataset with tuning is : {:.2f}%\".format(accuracy) )"
      ]
    },
    {
      "cell_type": "code",
      "execution_count": null,
      "metadata": {
        "id": "Cl2HjqSKSFLO"
      },
      "outputs": [],
      "source": [
        "from sklearn.svm import SVC\n",
        "from sklearn import svm"
      ]
    },
    {
      "cell_type": "code",
      "execution_count": null,
      "metadata": {
        "id": "Wp187ogeNIe_",
        "colab": {
          "base_uri": "https://localhost:8080/"
        },
        "outputId": "7f62509f-af77-4149-e2a2-8f5b81e5d597"
      },
      "outputs": [
        {
          "output_type": "execute_result",
          "data": {
            "text/plain": [
              "GridSearchCV(estimator=SVC(),\n",
              "             param_grid={'C': [0.1, 1, 100, 1000], 'degree': [1, 2, 3, 4, 5, 6],\n",
              "                         'gamma': [1, 0.1, 0.01, 0.001, 0.0001],\n",
              "                         'kernel': ['rbf', 'poly', 'sigmoid', 'linear']})"
            ]
          },
          "metadata": {},
          "execution_count": 23
        }
      ],
      "source": [
        "param_grid = { 'C':[0.1,1,100,1000],'kernel':['rbf','poly','sigmoid','linear'],'degree':[1,2,3,4,5,6],'gamma': [1, 0.1, 0.01, 0.001, 0.0001]}\n",
        "grid = GridSearchCV(SVC(), param_grid)\n",
        "grid.fit(x_train, y_train)"
      ]
    },
    {
      "cell_type": "code",
      "execution_count": null,
      "metadata": {
        "id": "um4Dfqj1NvDn",
        "colab": {
          "base_uri": "https://localhost:8080/"
        },
        "outputId": "1d4a3d07-892a-4feb-93a8-672129e34f62"
      },
      "outputs": [
        {
          "output_type": "stream",
          "name": "stdout",
          "text": [
            "{'C': 1, 'degree': 1, 'gamma': 0.1, 'kernel': 'rbf'}\n"
          ]
        }
      ],
      "source": [
        "print(grid.best_params_)"
      ]
    },
    {
      "cell_type": "code",
      "execution_count": null,
      "metadata": {
        "id": "Htp4Z1AGNwGR",
        "colab": {
          "base_uri": "https://localhost:8080/"
        },
        "outputId": "f58ab1e4-02bb-4356-a5ef-b2d46991f32d"
      },
      "outputs": [
        {
          "output_type": "stream",
          "name": "stdout",
          "text": [
            "Accuracy for our training dataset with tuning is : 76.54%\n"
          ]
        }
      ],
      "source": [
        "accuracy = grid.best_score_ *100\n",
        "print(\"Accuracy for our training dataset with tuning is : {:.2f}%\".format(accuracy) )"
      ]
    },
    {
      "cell_type": "code",
      "execution_count": null,
      "metadata": {
        "id": "9K1JfiTA3o8L",
        "colab": {
          "base_uri": "https://localhost:8080/"
        },
        "outputId": "69abbadb-4e0f-4522-8226-9c3dd87c230b"
      },
      "outputs": [
        {
          "output_type": "stream",
          "name": "stdout",
          "text": [
            "Fitting 5 folds for each of 90 candidates, totalling 450 fits\n"
          ]
        },
        {
          "output_type": "execute_result",
          "data": {
            "text/plain": [
              "GridSearchCV(cv=5, estimator=DecisionTreeClassifier(random_state=1024),\n",
              "             param_grid={'ccp_alpha': [0.1, 0.01, 0.001],\n",
              "                         'criterion': ['gini', 'entropy'],\n",
              "                         'max_depth': [5, 6, 7, 8, 9],\n",
              "                         'max_features': ['auto', 'sqrt', 'log2']},\n",
              "             verbose=True)"
            ]
          },
          "metadata": {},
          "execution_count": 26
        }
      ],
      "source": [
        "from sklearn.tree import DecisionTreeClassifier\n",
        "\n",
        "param_grid = {'max_features': ['auto', 'sqrt', 'log2'],\n",
        "              'ccp_alpha': [0.1, .01, .001],\n",
        "              'max_depth' : [5, 6, 7, 8, 9],\n",
        "              'criterion' :['gini', 'entropy']\n",
        "             }\n",
        "tree_clas = DecisionTreeClassifier(random_state=1024)\n",
        "grid_search = GridSearchCV(estimator=tree_clas, param_grid=param_grid, cv=5, verbose=True)\n",
        "grid_search.fit(x_train, y_train)"
      ]
    },
    {
      "cell_type": "code",
      "execution_count": null,
      "metadata": {
        "id": "Q_W83r-m33e5",
        "colab": {
          "base_uri": "https://localhost:8080/"
        },
        "outputId": "92361dcf-c895-4ca1-a24c-0a4412fedc7f"
      },
      "outputs": [
        {
          "output_type": "stream",
          "name": "stdout",
          "text": [
            "{'ccp_alpha': 0.01, 'criterion': 'gini', 'max_depth': 6, 'max_features': 'auto'}\n"
          ]
        }
      ],
      "source": [
        "print(grid_search.best_params_)"
      ]
    },
    {
      "cell_type": "code",
      "execution_count": null,
      "metadata": {
        "id": "BtQnPUGI33e6",
        "colab": {
          "base_uri": "https://localhost:8080/"
        },
        "outputId": "92ba453e-2fef-4b5e-a7a2-0965875703be"
      },
      "outputs": [
        {
          "output_type": "stream",
          "name": "stdout",
          "text": [
            "Accuracy for our training dataset with tuning is : 78.08%\n"
          ]
        }
      ],
      "source": [
        "accuracy = grid_search.best_score_ *100\n",
        "print(\"Accuracy for our training dataset with tuning is : {:.2f}%\".format(accuracy) )"
      ]
    },
    {
      "cell_type": "code",
      "source": [
        "from sklearn.metrics import classification_report,confusion_matrix\n",
        "from sklearn.neural_network import MLPClassifier\n",
        "parameters = {'solver': ['lbfgs','adam'], 'max_iter': [1000,1100,1200,1300,1400,1500,1600,1700,1800,1900,2000 ], 'alpha': 10.0 ** -np.arange(1, 10), 'hidden_layer_sizes':np.arange(50, 100), 'random_state':[0,1,2,3,4,5,6,7,8,9]}\n",
        "clf = GridSearchCV(MLPClassifier(), parameters, n_jobs=-1)\n",
        "clf.fit(x_train, y_train)\n",
        "print(clf.score(x_train, y_train))\n",
        "print(clf.best_params_)\n",
        "# mlp = MLPClassifier(activation='relu', alpha=0.0001, batch_size='auto', beta_1=0.9,\n",
        "#        beta_2=0.999, early_stopping=False, epsilon=1e-08,\n",
        "#        hidden_layer_sizes=(120, 460, 245),\n",
        "#        learning_rate_init=0.001, max_iter=1000, momentum=0.9,\n",
        "#        n_iter_no_change=10, nesterovs_momentum=True, power_t=0.5,\n",
        "#        random_state=42, shuffle=True, solver='adam', tol=0.0001,\n",
        "#        validation_fraction=0.1, verbose=False, warm_start=False)\n",
        "# mlp.fit(x_train,y_train)\n",
        "\n",
        "# predictions = mlp.predict(x_test)\n",
        "# print(classification_report(y_test,predictions))\n"
      ],
      "metadata": {
        "id": "UAwNhwSOXMtD"
      },
      "execution_count": null,
      "outputs": []
    }
  ]
}