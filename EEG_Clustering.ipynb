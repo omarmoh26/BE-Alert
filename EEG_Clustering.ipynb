{
  "nbformat": 4,
  "nbformat_minor": 0,
  "metadata": {
    "colab": {
      "provenance": [],
      "include_colab_link": true
    },
    "kernelspec": {
      "name": "python3",
      "display_name": "Python 3"
    },
    "language_info": {
      "name": "python"
    }
  },
  "cells": [
    {
      "cell_type": "markdown",
      "metadata": {
        "id": "view-in-github",
        "colab_type": "text"
      },
      "source": [
        "<a href=\"https://colab.research.google.com/github/omarmoh26/BE-Alert/blob/main/EEG_Clustering.ipynb\" target=\"_parent\"><img src=\"https://colab.research.google.com/assets/colab-badge.svg\" alt=\"Open In Colab\"/></a>"
      ]
    },
    {
      "cell_type": "code",
      "execution_count": null,
      "metadata": {
        "id": "LKgD22zCeK49",
        "colab": {
          "base_uri": "https://localhost:8080/"
        },
        "outputId": "4081bb80-b343-4c41-9c41-41d95ba9550b"
      },
      "outputs": [
        {
          "output_type": "stream",
          "name": "stdout",
          "text": [
            "Drive already mounted at /content/gdrive/; to attempt to forcibly remount, call drive.mount(\"/content/gdrive/\", force_remount=True).\n"
          ]
        }
      ],
      "source": [
        "from google.colab import drive\n",
        "drive.mount('/content/gdrive/')\n"
      ]
    },
    {
      "cell_type": "code",
      "source": [
        "import pandas as pd\n",
        "import numpy as np\n",
        "from matplotlib import pyplot as plt\n",
        "import seaborn as sns\n",
        "from sklearn.preprocessing import StandardScaler\n",
        "import pandas_profiling as pp\n",
        "\n",
        "data = pd.read_csv('/content/gdrive/My Drive/EEG_data.csv')"
      ],
      "metadata": {
        "id": "NlFDe-X-eOJa"
      },
      "execution_count": null,
      "outputs": []
    },
    {
      "cell_type": "code",
      "source": [
        "data.head()"
      ],
      "metadata": {
        "colab": {
          "base_uri": "https://localhost:8080/",
          "height": 288
        },
        "id": "u1oVPHrziBDH",
        "outputId": "82997a42-f59b-4e2f-9c2e-ec0cfefddb62"
      },
      "execution_count": null,
      "outputs": [
        {
          "output_type": "execute_result",
          "data": {
            "text/plain": [
              "   SubjectID  VideoID  Attention  Mediation    Raw      Delta     Theta  \\\n",
              "0        0.0      0.0       56.0       43.0  278.0   301963.0   90612.0   \n",
              "1        0.0      0.0       40.0       35.0  -50.0    73787.0   28083.0   \n",
              "2        0.0      0.0       47.0       48.0  101.0   758353.0  383745.0   \n",
              "3        0.0      0.0       47.0       57.0   -5.0  2012240.0  129350.0   \n",
              "4        0.0      0.0       44.0       53.0   -8.0  1005145.0  354328.0   \n",
              "\n",
              "     Alpha1   Alpha2    Beta1     Beta2   Gamma1   Gamma2  predefinedlabel  \\\n",
              "0   33735.0  23991.0  27946.0   45097.0  33228.0   8293.0              0.0   \n",
              "1    1439.0   2240.0   2746.0    3687.0   5293.0   2740.0              0.0   \n",
              "2  201999.0  62107.0  36293.0  130536.0  57243.0  25354.0              0.0   \n",
              "3   61236.0  17084.0  11488.0   62462.0  49960.0  33932.0              0.0   \n",
              "4   37102.0  88881.0  45307.0   99603.0  44790.0  29749.0              0.0   \n",
              "\n",
              "   user-definedlabeln  \n",
              "0                 0.0  \n",
              "1                 0.0  \n",
              "2                 0.0  \n",
              "3                 0.0  \n",
              "4                 0.0  "
            ],
            "text/html": [
              "\n",
              "  <div id=\"df-86a055a8-4ca2-480c-be71-5cbcbd4f8fe7\">\n",
              "    <div class=\"colab-df-container\">\n",
              "      <div>\n",
              "<style scoped>\n",
              "    .dataframe tbody tr th:only-of-type {\n",
              "        vertical-align: middle;\n",
              "    }\n",
              "\n",
              "    .dataframe tbody tr th {\n",
              "        vertical-align: top;\n",
              "    }\n",
              "\n",
              "    .dataframe thead th {\n",
              "        text-align: right;\n",
              "    }\n",
              "</style>\n",
              "<table border=\"1\" class=\"dataframe\">\n",
              "  <thead>\n",
              "    <tr style=\"text-align: right;\">\n",
              "      <th></th>\n",
              "      <th>SubjectID</th>\n",
              "      <th>VideoID</th>\n",
              "      <th>Attention</th>\n",
              "      <th>Mediation</th>\n",
              "      <th>Raw</th>\n",
              "      <th>Delta</th>\n",
              "      <th>Theta</th>\n",
              "      <th>Alpha1</th>\n",
              "      <th>Alpha2</th>\n",
              "      <th>Beta1</th>\n",
              "      <th>Beta2</th>\n",
              "      <th>Gamma1</th>\n",
              "      <th>Gamma2</th>\n",
              "      <th>predefinedlabel</th>\n",
              "      <th>user-definedlabeln</th>\n",
              "    </tr>\n",
              "  </thead>\n",
              "  <tbody>\n",
              "    <tr>\n",
              "      <th>0</th>\n",
              "      <td>0.0</td>\n",
              "      <td>0.0</td>\n",
              "      <td>56.0</td>\n",
              "      <td>43.0</td>\n",
              "      <td>278.0</td>\n",
              "      <td>301963.0</td>\n",
              "      <td>90612.0</td>\n",
              "      <td>33735.0</td>\n",
              "      <td>23991.0</td>\n",
              "      <td>27946.0</td>\n",
              "      <td>45097.0</td>\n",
              "      <td>33228.0</td>\n",
              "      <td>8293.0</td>\n",
              "      <td>0.0</td>\n",
              "      <td>0.0</td>\n",
              "    </tr>\n",
              "    <tr>\n",
              "      <th>1</th>\n",
              "      <td>0.0</td>\n",
              "      <td>0.0</td>\n",
              "      <td>40.0</td>\n",
              "      <td>35.0</td>\n",
              "      <td>-50.0</td>\n",
              "      <td>73787.0</td>\n",
              "      <td>28083.0</td>\n",
              "      <td>1439.0</td>\n",
              "      <td>2240.0</td>\n",
              "      <td>2746.0</td>\n",
              "      <td>3687.0</td>\n",
              "      <td>5293.0</td>\n",
              "      <td>2740.0</td>\n",
              "      <td>0.0</td>\n",
              "      <td>0.0</td>\n",
              "    </tr>\n",
              "    <tr>\n",
              "      <th>2</th>\n",
              "      <td>0.0</td>\n",
              "      <td>0.0</td>\n",
              "      <td>47.0</td>\n",
              "      <td>48.0</td>\n",
              "      <td>101.0</td>\n",
              "      <td>758353.0</td>\n",
              "      <td>383745.0</td>\n",
              "      <td>201999.0</td>\n",
              "      <td>62107.0</td>\n",
              "      <td>36293.0</td>\n",
              "      <td>130536.0</td>\n",
              "      <td>57243.0</td>\n",
              "      <td>25354.0</td>\n",
              "      <td>0.0</td>\n",
              "      <td>0.0</td>\n",
              "    </tr>\n",
              "    <tr>\n",
              "      <th>3</th>\n",
              "      <td>0.0</td>\n",
              "      <td>0.0</td>\n",
              "      <td>47.0</td>\n",
              "      <td>57.0</td>\n",
              "      <td>-5.0</td>\n",
              "      <td>2012240.0</td>\n",
              "      <td>129350.0</td>\n",
              "      <td>61236.0</td>\n",
              "      <td>17084.0</td>\n",
              "      <td>11488.0</td>\n",
              "      <td>62462.0</td>\n",
              "      <td>49960.0</td>\n",
              "      <td>33932.0</td>\n",
              "      <td>0.0</td>\n",
              "      <td>0.0</td>\n",
              "    </tr>\n",
              "    <tr>\n",
              "      <th>4</th>\n",
              "      <td>0.0</td>\n",
              "      <td>0.0</td>\n",
              "      <td>44.0</td>\n",
              "      <td>53.0</td>\n",
              "      <td>-8.0</td>\n",
              "      <td>1005145.0</td>\n",
              "      <td>354328.0</td>\n",
              "      <td>37102.0</td>\n",
              "      <td>88881.0</td>\n",
              "      <td>45307.0</td>\n",
              "      <td>99603.0</td>\n",
              "      <td>44790.0</td>\n",
              "      <td>29749.0</td>\n",
              "      <td>0.0</td>\n",
              "      <td>0.0</td>\n",
              "    </tr>\n",
              "  </tbody>\n",
              "</table>\n",
              "</div>\n",
              "      <button class=\"colab-df-convert\" onclick=\"convertToInteractive('df-86a055a8-4ca2-480c-be71-5cbcbd4f8fe7')\"\n",
              "              title=\"Convert this dataframe to an interactive table.\"\n",
              "              style=\"display:none;\">\n",
              "        \n",
              "  <svg xmlns=\"http://www.w3.org/2000/svg\" height=\"24px\"viewBox=\"0 0 24 24\"\n",
              "       width=\"24px\">\n",
              "    <path d=\"M0 0h24v24H0V0z\" fill=\"none\"/>\n",
              "    <path d=\"M18.56 5.44l.94 2.06.94-2.06 2.06-.94-2.06-.94-.94-2.06-.94 2.06-2.06.94zm-11 1L8.5 8.5l.94-2.06 2.06-.94-2.06-.94L8.5 2.5l-.94 2.06-2.06.94zm10 10l.94 2.06.94-2.06 2.06-.94-2.06-.94-.94-2.06-.94 2.06-2.06.94z\"/><path d=\"M17.41 7.96l-1.37-1.37c-.4-.4-.92-.59-1.43-.59-.52 0-1.04.2-1.43.59L10.3 9.45l-7.72 7.72c-.78.78-.78 2.05 0 2.83L4 21.41c.39.39.9.59 1.41.59.51 0 1.02-.2 1.41-.59l7.78-7.78 2.81-2.81c.8-.78.8-2.07 0-2.86zM5.41 20L4 18.59l7.72-7.72 1.47 1.35L5.41 20z\"/>\n",
              "  </svg>\n",
              "      </button>\n",
              "      \n",
              "  <style>\n",
              "    .colab-df-container {\n",
              "      display:flex;\n",
              "      flex-wrap:wrap;\n",
              "      gap: 12px;\n",
              "    }\n",
              "\n",
              "    .colab-df-convert {\n",
              "      background-color: #E8F0FE;\n",
              "      border: none;\n",
              "      border-radius: 50%;\n",
              "      cursor: pointer;\n",
              "      display: none;\n",
              "      fill: #1967D2;\n",
              "      height: 32px;\n",
              "      padding: 0 0 0 0;\n",
              "      width: 32px;\n",
              "    }\n",
              "\n",
              "    .colab-df-convert:hover {\n",
              "      background-color: #E2EBFA;\n",
              "      box-shadow: 0px 1px 2px rgba(60, 64, 67, 0.3), 0px 1px 3px 1px rgba(60, 64, 67, 0.15);\n",
              "      fill: #174EA6;\n",
              "    }\n",
              "\n",
              "    [theme=dark] .colab-df-convert {\n",
              "      background-color: #3B4455;\n",
              "      fill: #D2E3FC;\n",
              "    }\n",
              "\n",
              "    [theme=dark] .colab-df-convert:hover {\n",
              "      background-color: #434B5C;\n",
              "      box-shadow: 0px 1px 3px 1px rgba(0, 0, 0, 0.15);\n",
              "      filter: drop-shadow(0px 1px 2px rgba(0, 0, 0, 0.3));\n",
              "      fill: #FFFFFF;\n",
              "    }\n",
              "  </style>\n",
              "\n",
              "      <script>\n",
              "        const buttonEl =\n",
              "          document.querySelector('#df-86a055a8-4ca2-480c-be71-5cbcbd4f8fe7 button.colab-df-convert');\n",
              "        buttonEl.style.display =\n",
              "          google.colab.kernel.accessAllowed ? 'block' : 'none';\n",
              "\n",
              "        async function convertToInteractive(key) {\n",
              "          const element = document.querySelector('#df-86a055a8-4ca2-480c-be71-5cbcbd4f8fe7');\n",
              "          const dataTable =\n",
              "            await google.colab.kernel.invokeFunction('convertToInteractive',\n",
              "                                                     [key], {});\n",
              "          if (!dataTable) return;\n",
              "\n",
              "          const docLinkHtml = 'Like what you see? Visit the ' +\n",
              "            '<a target=\"_blank\" href=https://colab.research.google.com/notebooks/data_table.ipynb>data table notebook</a>'\n",
              "            + ' to learn more about interactive tables.';\n",
              "          element.innerHTML = '';\n",
              "          dataTable['output_type'] = 'display_data';\n",
              "          await google.colab.output.renderOutput(dataTable, element);\n",
              "          const docLink = document.createElement('div');\n",
              "          docLink.innerHTML = docLinkHtml;\n",
              "          element.appendChild(docLink);\n",
              "        }\n",
              "      </script>\n",
              "    </div>\n",
              "  </div>\n",
              "  "
            ]
          },
          "metadata": {},
          "execution_count": 37
        }
      ]
    },
    {
      "cell_type": "code",
      "source": [
        "data1=data[['Theta','Alpha1','Alpha2']]"
      ],
      "metadata": {
        "id": "cbbR6WMD4a0O"
      },
      "execution_count": null,
      "outputs": []
    },
    {
      "cell_type": "code",
      "source": [
        "scaler = StandardScaler()\n",
        "X=scaler.fit_transform(data1)\n",
        "print(X)"
      ],
      "metadata": {
        "colab": {
          "base_uri": "https://localhost:8080/"
        },
        "id": "GiR8I0sr7LSN",
        "outputId": "4c19e763-e063-4b3b-914d-5ea1e0289aa3"
      },
      "execution_count": null,
      "outputs": [
        {
          "output_type": "stream",
          "name": "stdout",
          "text": [
            "[[-0.31721696 -0.10561319 -0.15764201]\n",
            " [-0.57335209 -0.55151816 -0.53065383]\n",
            " [ 0.88353246  2.21757712  0.49601615]\n",
            " ...\n",
            " [-0.05635064 -0.01817461  0.10184224]\n",
            " [-0.57637104 -0.41338095 -0.39874234]\n",
            " [ 4.16308541  0.11914799  1.5609974 ]]\n"
          ]
        }
      ]
    },
    {
      "cell_type": "code",
      "source": [
        "import matplotlib.pyplot as plt\n",
        "import numpy as np\n",
        "from sklearn.linear_model import LogisticRegression\n",
        "from sklearn.metrics import classification_report, confusion_matrix\n",
        "from sklearn.model_selection import train_test_split\n",
        "from sklearn.metrics import classification_report\n",
        "from sklearn.metrics import confusion_matrix\n",
        "from sklearn.linear_model import LinearRegression\n",
        "from sklearn import preprocessing\n",
        "import matplotlib.pyplot as plt\n",
        "# from kneed import KneeLocator\n",
        "from sklearn.datasets import make_blobs\n",
        "from sklearn.cluster import KMeans\n",
        "from sklearn.metrics import silhouette_score\n",
        "from sklearn.preprocessing import StandardScaler"
      ],
      "metadata": {
        "id": "V95CPq3_7Xcb"
      },
      "execution_count": null,
      "outputs": []
    },
    {
      "cell_type": "code",
      "source": [
        "kmeans_kwargs = {\n",
        "     \"init\": \"random\",\n",
        "     \"n_init\": 10,\n",
        "     \"max_iter\": 300,\n",
        "     \"random_state\": 42,\n",
        " }"
      ],
      "metadata": {
        "id": "LOcaMgb09rvE"
      },
      "execution_count": null,
      "outputs": []
    },
    {
      "cell_type": "code",
      "source": [
        "silhouette_coefficients = []\n",
        "  #  .tofc ..:\n",
        " # Notice you start at 2 clusters for silhouette coefficient\n",
        "for k in range(2, 11):\n",
        "     kmeans = KMeans(n_clusters=k, **kmeans_kwargs)\n",
        "     kmeans.fit(X)\n",
        "     score = silhouette_score(X, kmeans.labels_)\n",
        "     silhouette_coefficients.append(score)"
      ],
      "metadata": {
        "id": "D17tJrk_7a7n"
      },
      "execution_count": null,
      "outputs": []
    },
    {
      "cell_type": "code",
      "source": [
        "%matplotlib inline\n",
        "plt.figure()\n",
        "# plt.style.use(\"fivethirtyeight\")\n",
        "plt.plot(range(2, 11), silhouette_coefficients)\n",
        "plt.xticks(range(2, 11))\n",
        "plt.xlabel(\"Number of Clusters\")\n",
        "plt.ylabel(\"Silhouette Coefficient\")\n",
        "plt.show()"
      ],
      "metadata": {
        "id": "oE2xog759R10",
        "colab": {
          "base_uri": "https://localhost:8080/",
          "height": 279
        },
        "outputId": "37672dbd-ddc2-4c7a-f0a3-70b0a2d10016"
      },
      "execution_count": null,
      "outputs": [
        {
          "output_type": "display_data",
          "data": {
            "text/plain": [
              "<Figure size 432x288 with 1 Axes>"
            ],
            "image/png": "[encoded data removed]"
          },
          "metadata": {
            "needs_background": "light"
          }
        }
      ]
    },
    {
      "cell_type": "code",
      "source": [
        "\n",
        "\n",
        " # A list holds the SSE values for each k\n",
        " sse = []\n",
        " for k in range(1, 11):\n",
        "     kmeans = KMeans(n_clusters=k, **kmeans_kwargs)\n",
        "     kmeans.fit(X)\n",
        "     sse.append(kmeans.inertia_)"
      ],
      "metadata": {
        "id": "Rh1WmUZF9BIG"
      },
      "execution_count": null,
      "outputs": []
    },
    {
      "cell_type": "code",
      "source": [
        "plt.style.use(\"fivethirtyeight\")\n",
        "plt.plot(range(1, 11), sse)\n",
        "plt.xticks(range(1, 11))\n",
        "plt.xlabel(\"Number of Clusters\")\n",
        "plt.ylabel(\"SSE\")\n",
        "plt.show()"
      ],
      "metadata": {
        "id": "4ERfyyie9NXo",
        "colab": {
          "base_uri": "https://localhost:8080/",
          "height": 309
        },
        "outputId": "f1f2f9be-fe2a-42c2-9dc8-8e98117deed5"
      },
      "execution_count": null,
      "outputs": [
        {
          "output_type": "display_data",
          "data": {
            "text/plain": [
              "<Figure size 432x288 with 1 Axes>"
            ],
            "image/png": "[encoded data removed]"
          },
          "metadata": {}
        }
      ]
    }
  ]
}